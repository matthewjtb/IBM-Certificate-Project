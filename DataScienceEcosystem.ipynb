{
 "cells": [
  {
   "cell_type": "markdown",
   "id": "addc1eac-b783-4784-9270-306d253132fa",
   "metadata": {},
   "source": [
    "# Data Science Tools and Ecosystem"
   ]
  },
  {
   "cell_type": "markdown",
   "id": "f9dbd82a-4619-4ce6-ae99-c1e77768e99d",
   "metadata": {},
   "source": [
    "## Author\n",
    "Matthew Brennan"
   ]
  },
  {
   "cell_type": "markdown",
   "id": "75e909e3-1227-4161-b2dc-a72037d28053",
   "metadata": {},
   "source": [
    "This notebook is about data science tools and ecosystem."
   ]
  },
  {
   "cell_type": "markdown",
   "id": "4a4dc3c2-91f3-45bd-a870-ed7c89829f07",
   "metadata": {},
   "source": [
    "__Objectives:__\n",
    "<ul>\n",
    "    <li>List common data science languages</li>\n",
    "    <li>List common data science libraries</li>\n",
    "    <li>Perform arithmetic expressions</li>\n",
    "</ul>"
   ]
  },
  {
   "cell_type": "markdown",
   "id": "cc9e2eb0-7a91-41ca-9403-84f482be48ed",
   "metadata": {},
   "source": [
    "Some common data science languages are: <br>\n",
    "<ol>\n",
    "    <li>Python</li>\n",
    "    <li>R</li>\n",
    "    <li>SQL</li>\n",
    "</ol>\n"
   ]
  },
  {
   "cell_type": "markdown",
   "id": "18e0e618-6240-4c98-a6af-04123ece2315",
   "metadata": {},
   "source": [
    "Some common data science libraries are <br>\n",
    "<ol>\n",
    "    <li>NumPy</li>\n",
    "    <li>SciKit-Learn</li>\n",
    "    <li>Pandas</li>\n",
    "</ol>"
   ]
  },
  {
   "cell_type": "markdown",
   "id": "77631b41-3511-4867-a4ad-4445a9691d38",
   "metadata": {},
   "source": [
    "| Data Science Tools|\n",
    "| ----------------- |\n",
    "| TensorFlow        |\n",
    "| Pandas            |\n",
    "| Hadoop            |"
   ]
  },
  {
   "cell_type": "markdown",
   "id": "05120516-8ab8-477d-9c6d-216827c75f4b",
   "metadata": {},
   "source": [
    "### Below are a few examples of evaluating arithmetic expressions in Python"
   ]
  },
  {
   "cell_type": "code",
   "execution_count": 4,
   "id": "7af3a841-0fd5-4c50-aa57-01d780a1f828",
   "metadata": {},
   "outputs": [
    {
     "data": {
      "text/plain": [
       "17"
      ]
     },
     "execution_count": 4,
     "metadata": {},
     "output_type": "execute_result"
    }
   ],
   "source": [
    "# This a simple arithmetic expression to mutiply then add integers\n",
    "(3*4)+5"
   ]
  },
  {
   "cell_type": "code",
   "execution_count": 5,
   "id": "767e4e82-fe07-4b95-b93c-3f73bed0b7c8",
   "metadata": {},
   "outputs": [
    {
     "data": {
      "text/plain": [
       "3.3333333333333335"
      ]
     },
     "execution_count": 5,
     "metadata": {},
     "output_type": "execute_result"
    }
   ],
   "source": [
    "# This will convert 200 minutes to hours by diving by 60\n",
    "200 / 60"
   ]
  },
  {
   "cell_type": "code",
   "execution_count": null,
   "id": "f2310b0b-f8bb-4b8a-aff7-386753d8ad32",
   "metadata": {},
   "outputs": [],
   "source": []
  }
 ],
 "metadata": {
  "kernelspec": {
   "display_name": "Python",
   "language": "python",
   "name": "conda-env-python-py"
  },
  "language_info": {
   "codemirror_mode": {
    "name": "ipython",
    "version": 3
   },
   "file_extension": ".py",
   "mimetype": "text/x-python",
   "name": "python",
   "nbconvert_exporter": "python",
   "pygments_lexer": "ipython3",
   "version": "3.7.12"
  }
 },
 "nbformat": 4,
 "nbformat_minor": 5
}
